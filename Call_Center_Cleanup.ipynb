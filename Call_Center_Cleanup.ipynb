{
 "cells": [
  {
   "cell_type": "markdown",
   "id": "331a1c4f",
   "metadata": {},
   "source": [
    "# Call Center Cleanup\n",
    "\n",
    "For this assignment, we will be working with call center data. You can start working on the assignment after the first lesson on Exploratory Data Analysis with pandas. Make sure to read the whole assignment before starting anything! As you code along in the Jupyter notebook, you are asked to make note of the results of your analysis. Do so by clicking on the results box and adding your notes beside each question.\n",
    "\n",
    "## Business Issue and Understanding\n",
    "\n",
    "You are working for a company that has two call centers: the North Call Center and the South Call Center. The company is looking to possibly hire five additional reps to enhance customer experience. Your task is to explore how efficient the current reps are in each branch to determine which branch would benefit from additional assistance.\n",
    "\n",
    "### How the Call Center Works\n",
    "\n",
    "Call center representatives are assigned queues. When calls are assigned to a queue, the call is assigned to the next person in line in the queue. After a call is assigned to a representative, the amount of time between assignment and the call starting is divided into busy minutes and not ready minutes. If the call is incoming and a customer is waiting on the phone for a rep, the time is split into three categories: busy minutes, not ready minutes, and incoming call wait time. Once the rep has the customer on the phone, there might be during call wait time, where the call is put on hold while the rep gets an answer for the customer.\n",
    "\n",
    "### Notes about the Dataset\n",
    "\n",
    "If you haven't worked in a call center before, these notes might help you throughout your analysis.\n",
    "\n",
    "* The call purpose is tagged for each call.\n",
    "* The time of the call is tagged in 1 hour blocks starting at 9:00 AM and ending at 5:00 PM.\n",
    "* Calls are tagged as incoming or outgoing.\n",
    "* Reps are assigned to queues. When the reps are working, they take calls in the order of their queue.\n",
    "* A call that is dropped due to technical error or missed by the center because they have reached maximum capacity is a lost call.\n",
    "* An abandoned call is when the customer hangs up because they have been waiting for too long.\n",
    "* Busy Minutes: the amount of time after a call comes in or needs to go out where the assigned rep is not available because they are busy with other customers.\n",
    "* Not Ready Minutes: the amount of time after a call comes in or needs to go out where the assigned rep is not available because they are not ready (for example, getting water).\n",
    "* Incoming Wait Time - amount of time after assigned rep is available to take the call customer waits for representative to pick up a call. This is tracked in seconds.\n",
    "* During Call Wait Time - amount of time during call that customer has to wait for representative\n",
    "\n",
    "## Getting Started\n",
    "\n",
    "You have two CSVs at your disposal, `NorthCallCenter.csv` and `SouthCallCenter.csv`. Import the appropriate libraries and create two dataframes, one called `north_df` and one called `south_df`."
   ]
  },
  {
   "cell_type": "code",
   "execution_count": 2,
   "id": "f362436b",
   "metadata": {},
   "outputs": [
    {
     "name": "stdout",
     "output_type": "stream",
     "text": [
      "   Unnamed: 0 Branch     Call Purpose Time Block Incoming or Outgoing Queue  \\\n",
      "0           0  North        Complaint    9:00 AM             Incoming     B   \n",
      "1           1  North    Sales Support   11:00 AM             Incoming     A   \n",
      "2           2  North    Sales Support   11:00 AM             Incoming     B   \n",
      "3           3  North    Sales Support    4:00 PM             Incoming     B   \n",
      "4           4  North  Product Support   12:00 PM             Incoming     B   \n",
      "\n",
      "  Rep ID Sale  Lost Call  Abandoned  Busy Minutes  Not Ready Minutes  \\\n",
      "0  Brent   NO          0          1             9                  2   \n",
      "1    Cam   NO          0          0            11                  1   \n",
      "2   Todd   NO          0          0             9                  3   \n",
      "3  Brent   NO          0          0            11                  2   \n",
      "4  Brent   NO          0          0             8                  2   \n",
      "\n",
      "   Incoming Wait Time  During Call Wait Time  Calls  \n",
      "0                 1.0                      4      1  \n",
      "1                 1.0                      3      1  \n",
      "2                 1.0                      3      1  \n",
      "3                 1.0                      4      1  \n",
      "4                 1.0                      4      1  \n",
      "   Unnamed: 0 Branch   Call Purpose Time Block Incoming or Outgoing Queue  \\\n",
      "0           0  South  Sales Support   10:00 AM             Incoming     D   \n",
      "1           1  South  Sales Support   10:00 AM             Incoming     C   \n",
      "2           2  South  Sales Support   10:00 AM             Incoming     C   \n",
      "3           3  South  Sales Support   10:00 AM             Incoming     C   \n",
      "4           4  South  Sales Support   12:00 PM             Incoming     C   \n",
      "\n",
      "  Rep ID Sale  Lost Call  Abandoned  Busy Minutes  Not Ready Minutes  \\\n",
      "0   Kate   NO          0          0             9                  1   \n",
      "1   Eric   NO          0          0             8                  2   \n",
      "2  Susan   NO          0          0            10                  2   \n",
      "3  Alice   NO          0          0            12                  1   \n",
      "4  Sandy   NO          0          0             8                  3   \n",
      "\n",
      "   Incoming Wait Time  During Call Wait Time  Calls  \n",
      "0                 1.0                      2      1  \n",
      "1                 1.0                      4      1  \n",
      "2                 1.0                      4      1  \n",
      "3                 1.0                      3      1  \n",
      "4                 1.0                      3      1  \n",
      "(245, 15)\n",
      "(314, 15)\n"
     ]
    }
   ],
   "source": [
    "# Import the appropriate libraries with aliases\n",
    "\n",
    "import pandas as pd\n",
    "import numpy as np\n",
    "import matplotlib.pyplot as plt\n",
    "\n",
    "# Create two new dataframes\n",
    "\n",
    "north_df = pd.read_csv('NorthCallCenter.csv')\n",
    "south_df = pd.read_csv('SouthCallCenter.csv')\n",
    "\n",
    "print(north_df.head())\n",
    "print(south_df.head())\n",
    "\n",
    "print(north_df.shape)\n",
    "print(south_df.shape)\n"
   ]
  },
  {
   "cell_type": "markdown",
   "id": "b4d3484b",
   "metadata": {},
   "source": [
    "## Task 1: Exploratory Data Analysis\n",
    "\n",
    "Time to do some EDA! In the process of learning more about the two datasets, answer the following questions. Use the code blocks below to begin cleaning your data. At the end of the section, record your answers."
   ]
  },
  {
   "cell_type": "markdown",
   "id": "76898991",
   "metadata": {},
   "source": [
    "#### EDA Question 1A:  How many reps are in the North branch?  "
   ]
  },
  {
   "cell_type": "code",
   "execution_count": 3,
   "id": "ce3eb5e4",
   "metadata": {},
   "outputs": [
    {
     "name": "stdout",
     "output_type": "stream",
     "text": [
      "9\n"
     ]
    }
   ],
   "source": [
    "# EDA Question 1A solution below:\n",
    "\n",
    "n_reps_count = north_df['Rep ID'].nunique()\n",
    "\n",
    "print(n_reps_count)\n",
    "\n",
    "# A: 9"
   ]
  },
  {
   "cell_type": "markdown",
   "id": "2a9b34d8",
   "metadata": {},
   "source": [
    "#### EDA Question 1B:  How many reps are in the South branch?  "
   ]
  },
  {
   "cell_type": "code",
   "execution_count": 4,
   "id": "3c715bbf",
   "metadata": {},
   "outputs": [
    {
     "name": "stdout",
     "output_type": "stream",
     "text": [
      "11\n"
     ]
    }
   ],
   "source": [
    "# EDA Question 1B solution Below:\n",
    "\n",
    "s_reps_count = south_df['Rep ID'].nunique()\n",
    "\n",
    "print(s_reps_count)"
   ]
  },
  {
   "cell_type": "markdown",
   "id": "a872f045",
   "metadata": {},
   "source": [
    "#### EDA Question 2A:  What is the average busy minutes, not ready minutes, incoming wait time, and during call wait time for the North branch? "
   ]
  },
  {
   "cell_type": "code",
   "execution_count": 5,
   "id": "3759305f",
   "metadata": {},
   "outputs": [
    {
     "name": "stdout",
     "output_type": "stream",
     "text": [
      "Busy Minutes             9.987755\n",
      "Not Ready Minutes        1.914286\n",
      "Incoming Wait Time       3.048780\n",
      "During Call Wait Time    2.967347\n",
      "dtype: float64\n"
     ]
    }
   ],
   "source": [
    "# EDA Question 2A solution Below:\n",
    "\n",
    "n_means = north_df.agg({\n",
    "    'Busy Minutes': 'mean', \n",
    "    'Not Ready Minutes': 'mean', \n",
    "    'Incoming Wait Time': 'mean', \n",
    "    'During Call Wait Time': 'mean'\n",
    "    })\n",
    "\n",
    "print(n_means)"
   ]
  },
  {
   "cell_type": "markdown",
   "id": "3851cf3e",
   "metadata": {},
   "source": [
    "#### EDA Question 2B:  What is the average busy minutes, not ready minutes, incoming wait time, and during call wait time for the South branch? "
   ]
  },
  {
   "cell_type": "code",
   "execution_count": 6,
   "id": "a77ec152",
   "metadata": {},
   "outputs": [
    {
     "name": "stdout",
     "output_type": "stream",
     "text": [
      "Busy Minutes             10.054140\n",
      "Not Ready Minutes         1.910828\n",
      "Incoming Wait Time        3.000000\n",
      "During Call Wait Time     3.076433\n",
      "dtype: float64\n"
     ]
    }
   ],
   "source": [
    "# EDA Question 2B solution Below:\n",
    "\n",
    "s_means = south_df.agg({\n",
    "    'Busy Minutes': 'mean', \n",
    "    'Not Ready Minutes': 'mean', \n",
    "    'Incoming Wait Time': 'mean', \n",
    "    'During Call Wait Time': 'mean'\n",
    "    })\n",
    "\n",
    "print(s_means)"
   ]
  },
  {
   "cell_type": "markdown",
   "id": "75915553",
   "metadata": {},
   "source": [
    "#### EDA Question 3:  What is the number of calls taken for each time block(Both North and South combined)?"
   ]
  },
  {
   "cell_type": "code",
   "execution_count": 7,
   "id": "49566936",
   "metadata": {},
   "outputs": [
    {
     "name": "stdout",
     "output_type": "stream",
     "text": [
      "Time Block\n",
      "10:00 AM     99\n",
      "11:00 AM     56\n",
      "12:00 PM    120\n",
      "1:00 PM      40\n",
      "2:00 PM      65\n",
      "3:00 PM      73\n",
      "4:00 PM      53\n",
      "5:00 PM      43\n",
      "9:00 AM      10\n",
      "Name: Calls, dtype: int64\n"
     ]
    }
   ],
   "source": [
    "# EDA Question 3 solution Below:\n",
    "\n",
    "n_s_combined = pd.concat([north_df, south_df])\n",
    "\n",
    "n_s_grouped_time = n_s_combined.groupby('Time Block')\n",
    "\n",
    "n_s_calls_per_time = n_s_grouped_time['Calls'].count()\n",
    "\n",
    "print(n_s_calls_per_time)\n",
    "\n",
    "# I just realized... weeks after I originally did this... that it might not be asking for us to concat it,\n",
    "# but rather just to do it for the north_df and the south_df and sum the answers.  I think this worked, \n",
    "# though... "
   ]
  },
  {
   "cell_type": "markdown",
   "id": "40b1fd3f",
   "metadata": {},
   "source": [
    "##### Record your answers for the EDA section below:\n",
    "- 1a) Reps in the North Branch = 9\n",
    "- 1b) Reps in the South Branch = 11 \n",
    "\n",
    "\n",
    "- 2a) North Branch, (round to the nearest hundredth):\n",
    "> - Busy Minutes = 9.99\n",
    "> - Not Ready Minutes = 1.91\n",
    "> - Incoming Wait Time = 3.05\n",
    "> - During Call Wait Time = 2.97\n",
    "- 2b) South Branch, (round to the nearest hundredth):\n",
    "> - Busy Minutes = 10.05\n",
    "> - Not Ready Minutes = 1.91\n",
    "> - Incoming Wait Time = 3.00\n",
    "> - During Call Wait Time = 3.08\n",
    "- 3) Total Calls taken for all branches per time block:\n",
    "> - 9:00AM   = 10\n",
    "> - 10:00AM  = 99   \n",
    "> - 11:00AM  = 56 \n",
    "> - 12:00PM  = 120\n",
    "> - 1:00PM   = 40\n",
    "> - 2:00PM   = 65\n",
    "> - 3:00PM   = 73\n",
    "> - 4:00PM   = 53\n",
    "> - 5:00PM   = 43\n",
    "\n"
   ]
  },
  {
   "cell_type": "markdown",
   "id": "366bfb19",
   "metadata": {},
   "source": [
    "## Task 2: Cleaning Your Data \n",
    "Now you need to clean up the datasets. When cleaning the datasets, you may find that there isn't dirty data to clean. That is okay! Some questions you need to answer about the data sets.\n",
    "* Add additional code blocks as needed to show how you came to your conclusions. Add comments in your code blocks to help others understand your thinking. "
   ]
  },
  {
   "cell_type": "markdown",
   "id": "c3564d69",
   "metadata": {},
   "source": [
    "#### Cleaning Question 1:  Is there any missing data and if yes explain what you would do with the missing data and why?"
   ]
  },
  {
   "cell_type": "code",
   "execution_count": 17,
   "id": "b77fb574",
   "metadata": {},
   "outputs": [
    {
     "name": "stdout",
     "output_type": "stream",
     "text": [
      "     Unnamed: 0  Branch  Call Purpose  Time Block  Incoming or Outgoing  \\\n",
      "0         False   False         False       False                 False   \n",
      "1         False   False         False       False                 False   \n",
      "2         False   False         False       False                 False   \n",
      "3         False   False         False       False                 False   \n",
      "4         False   False         False       False                 False   \n",
      "..          ...     ...           ...         ...                   ...   \n",
      "240       False   False         False       False                 False   \n",
      "241       False   False         False       False                 False   \n",
      "242       False   False         False       False                 False   \n",
      "243       False   False         False       False                 False   \n",
      "244       False   False         False       False                 False   \n",
      "\n",
      "     Queue  Rep ID   Sale  Lost Call  Abandoned  Busy Minutes  \\\n",
      "0    False   False  False      False      False         False   \n",
      "1    False   False  False      False      False         False   \n",
      "2    False   False  False      False      False         False   \n",
      "3    False   False  False      False      False         False   \n",
      "4    False   False  False      False      False         False   \n",
      "..     ...     ...    ...        ...        ...           ...   \n",
      "240  False   False  False      False      False         False   \n",
      "241  False   False  False      False      False         False   \n",
      "242  False   False  False      False      False         False   \n",
      "243  False   False  False      False      False         False   \n",
      "244  False   False  False      False      False         False   \n",
      "\n",
      "     Not Ready Minutes  Incoming Wait Time  During Call Wait Time  Calls  \n",
      "0                False               False                  False  False  \n",
      "1                False               False                  False  False  \n",
      "2                False               False                  False  False  \n",
      "3                False               False                  False  False  \n",
      "4                False               False                  False  False  \n",
      "..                 ...                 ...                    ...    ...  \n",
      "240              False                True                  False  False  \n",
      "241              False                True                  False  False  \n",
      "242              False                True                  False  False  \n",
      "243              False                True                  False  False  \n",
      "244              False                True                  False  False  \n",
      "\n",
      "[245 rows x 15 columns]\n",
      "Unnamed: 0                 0\n",
      "Branch                     0\n",
      "Call Purpose               0\n",
      "Time Block                 0\n",
      "Incoming or Outgoing       0\n",
      "Queue                      0\n",
      "Rep ID                     0\n",
      "Sale                       0\n",
      "Lost Call                  0\n",
      "Abandoned                  0\n",
      "Busy Minutes               0\n",
      "Not Ready Minutes          0\n",
      "Incoming Wait Time       163\n",
      "During Call Wait Time      0\n",
      "Calls                      0\n",
      "dtype: int64\n",
      "     Unnamed: 0  Branch  Call Purpose  Time Block  Incoming or Outgoing  \\\n",
      "0         False   False         False       False                 False   \n",
      "1         False   False         False       False                 False   \n",
      "2         False   False         False       False                 False   \n",
      "3         False   False         False       False                 False   \n",
      "4         False   False         False       False                 False   \n",
      "..          ...     ...           ...         ...                   ...   \n",
      "309       False   False         False       False                 False   \n",
      "310       False   False         False       False                 False   \n",
      "311       False   False         False       False                 False   \n",
      "312       False   False         False       False                 False   \n",
      "313       False   False         False       False                 False   \n",
      "\n",
      "     Queue  Rep ID   Sale  Lost Call  Abandoned  Busy Minutes  \\\n",
      "0    False   False  False      False      False         False   \n",
      "1    False   False  False      False      False         False   \n",
      "2    False   False  False      False      False         False   \n",
      "3    False   False  False      False      False         False   \n",
      "4    False   False  False      False      False         False   \n",
      "..     ...     ...    ...        ...        ...           ...   \n",
      "309  False   False  False      False      False         False   \n",
      "310  False   False  False      False      False         False   \n",
      "311  False   False  False      False      False         False   \n",
      "312  False   False  False      False      False         False   \n",
      "313  False   False  False      False      False         False   \n",
      "\n",
      "     Not Ready Minutes  Incoming Wait Time  During Call Wait Time  Calls  \n",
      "0                False               False                  False  False  \n",
      "1                False               False                  False  False  \n",
      "2                False               False                  False  False  \n",
      "3                False               False                  False  False  \n",
      "4                False               False                  False  False  \n",
      "..                 ...                 ...                    ...    ...  \n",
      "309              False                True                  False  False  \n",
      "310              False                True                  False  False  \n",
      "311              False                True                  False  False  \n",
      "312              False                True                  False  False  \n",
      "313              False                True                  False  False  \n",
      "\n",
      "[314 rows x 15 columns]\n",
      "Unnamed: 0                 0\n",
      "Branch                     0\n",
      "Call Purpose               0\n",
      "Time Block                 0\n",
      "Incoming or Outgoing       0\n",
      "Queue                      0\n",
      "Rep ID                     0\n",
      "Sale                       0\n",
      "Lost Call                  0\n",
      "Abandoned                  0\n",
      "Busy Minutes               0\n",
      "Not Ready Minutes          0\n",
      "Incoming Wait Time       188\n",
      "During Call Wait Time      0\n",
      "Calls                      0\n",
      "dtype: int64\n",
      "[ 1.  2.  3.  4.  5. nan]\n"
     ]
    }
   ],
   "source": [
    "# Question 1 solution below\n",
    "\n",
    "n_nulls = north_df.isnull()\n",
    "\n",
    "print(n_nulls)\n",
    "\n",
    "sum_n_nulls = n_nulls.sum()\n",
    "\n",
    "print(sum_n_nulls)\n",
    "\n",
    "# it appears that there's 163 nulls in the Incoming Wait Time column of the North Call Center dataframe.  \n",
    "\n",
    "s_nulls = south_df.isnull()\n",
    "\n",
    "print(s_nulls)\n",
    "\n",
    "sum_s_nulls = s_nulls.sum()\n",
    "\n",
    "print(sum_s_nulls)\n",
    "\n",
    "# it appears that there's 188 nulls in the Incoming Wait Time column of the South Call Center dataframe. \n",
    "\n",
    "# Are calls that got picked up immediately (i.e. had a 0 minute wait time) nulls, or are 0s actually\n",
    "# recorded in the column? \n",
    "\n",
    "n_incoming_values = north_df['Incoming Wait Time'].unique()\n",
    "\n",
    "print(n_incoming_values)\n",
    "\n",
    "# it looks like there are no 0s (i.e. immediate answers) recorded, which tells me that perhaps all the\n",
    "# cells that are null were actually calls with a 0-second wait time.  Could theoretically replace all\n",
    "# the nulls with 0s if we're confident in that assessment and having numeric values in those cells\n",
    "# would aid analysis.  Maybe it's just not possible for a call to be answered in 0 seconds, though? "
   ]
  },
  {
   "cell_type": "markdown",
   "id": "0dc5c568-40db-4889-b82b-64610d8058d2",
   "metadata": {},
   "source": [
    "#### Record your answer below:\n",
    "\n",
    "> Your Answer: Are calls that got picked up immediately (i.e. had a 0 minute wait time) nulls, or are 0s actually\n",
    "recorded in the column?  It looks like there are no 0s (i.e. immediate answers) recorded, which tells me that perhaps \n",
    "all the cells that are null were actually calls with a 0-minute wait time.  Could theoretically replace all the nulls \n",
    "with 0s if we're confident in that assessment and having numeric values in those cells would aid analysis. "
   ]
  },
  {
   "cell_type": "markdown",
   "id": "dc47f020",
   "metadata": {},
   "source": [
    "#### Cleaning Question 2:  In the North data set, there are two separate \"YES\" values for a sale. Why and how did you rectify the issue?"
   ]
  },
  {
   "cell_type": "code",
   "execution_count": 18,
   "id": "4e0fbad6",
   "metadata": {},
   "outputs": [
    {
     "name": "stdout",
     "output_type": "stream",
     "text": [
      "0      NO\n",
      "1      NO\n",
      "2      NO\n",
      "3      NO\n",
      "4      NO\n",
      "       ..\n",
      "240    NO\n",
      "241    NO\n",
      "242    NO\n",
      "243    NO\n",
      "244    NO\n",
      "Name: Sale, Length: 245, dtype: object\n",
      "['NO' 'YES ' 'YES']\n",
      "['NO' 'YES']\n"
     ]
    }
   ],
   "source": [
    "# Cleaning Question 2 solution below:\n",
    "\n",
    "print(north_df['Sale'])\n",
    "\n",
    "print(north_df['Sale'].unique())\n",
    "\n",
    "# One of the \"YES\" values has a trailling whitespace.  The other doesn't.  The trailing whitespace\n",
    "# needs to be removed \n",
    "\n",
    "north_df['Sale'] = north_df['Sale'].str.strip()\n",
    "\n",
    "print(north_df['Sale'].unique())\n",
    "\n",
    "# Looks like this worked! \n"
   ]
  },
  {
   "cell_type": "markdown",
   "id": "cf81b612-eb6b-45a6-ac8e-d6f4e08131a8",
   "metadata": {},
   "source": [
    "##### Record your answer by below:\n",
    "> Your Answer: There was one \"YES\" with a trailing white space, one without.  str.strip() removed the trailing\n",
    "whitespace and doing ['Sale'] = ['Sale'].str.strip() updated the column in the dataframe.  "
   ]
  },
  {
   "cell_type": "markdown",
   "id": "715f375a",
   "metadata": {},
   "source": [
    "#### Cleaning Question 3:  Are there duplicates in the two data sets? If there are, how did you handle them?"
   ]
  },
  {
   "cell_type": "code",
   "execution_count": 19,
   "id": "2323673a",
   "metadata": {},
   "outputs": [
    {
     "name": "stdout",
     "output_type": "stream",
     "text": [
      "0      False\n",
      "1      False\n",
      "2      False\n",
      "3      False\n",
      "4      False\n",
      "       ...  \n",
      "240    False\n",
      "241    False\n",
      "242    False\n",
      "243    False\n",
      "244    False\n",
      "Length: 245, dtype: bool\n",
      "[False]\n",
      "0      False\n",
      "1      False\n",
      "2      False\n",
      "3      False\n",
      "4      False\n",
      "       ...  \n",
      "309    False\n",
      "310    False\n",
      "311    False\n",
      "312    False\n",
      "313    False\n",
      "Length: 314, dtype: bool\n",
      "[False]\n"
     ]
    }
   ],
   "source": [
    "# Cleaning Question 3 solution below:\n",
    "\n",
    "n_dupes = north_df.duplicated()\n",
    "\n",
    "print(n_dupes)\n",
    "\n",
    "print(n_dupes.unique())\n",
    "\n",
    "s_dupes = south_df.duplicated()\n",
    "\n",
    "print(s_dupes)\n",
    "\n",
    "print(s_dupes.unique())\n"
   ]
  },
  {
   "cell_type": "markdown",
   "id": "4fbfe2e8-490a-48dc-b0ca-599879076c62",
   "metadata": {},
   "source": [
    "##### Record your answer below:\n",
    "> Your Answer: .duplicated().unique() only shows False, which to me says that there are no rows that are\n",
    "duplicates, which would've returned a True.  "
   ]
  },
  {
   "cell_type": "markdown",
   "id": "8ffaa865",
   "metadata": {},
   "source": [
    "#### Cleaning Question 4:  Is any of the data in the two data sets unnecessary? If yes, how did you handle it?"
   ]
  },
  {
   "cell_type": "code",
   "execution_count": 21,
   "id": "78b45e70",
   "metadata": {},
   "outputs": [
    {
     "name": "stdout",
     "output_type": "stream",
     "text": [
      "  Branch     Call Purpose Time Block Incoming or Outgoing Queue Rep ID Sale  \\\n",
      "0  North        Complaint    9:00 AM             Incoming     B  Brent   NO   \n",
      "1  North    Sales Support   11:00 AM             Incoming     A    Cam   NO   \n",
      "2  North    Sales Support   11:00 AM             Incoming     B   Todd   NO   \n",
      "3  North    Sales Support    4:00 PM             Incoming     B  Brent   NO   \n",
      "4  North  Product Support   12:00 PM             Incoming     B  Brent   NO   \n",
      "\n",
      "   Lost Call  Abandoned  Busy Minutes  Not Ready Minutes  Incoming Wait Time  \\\n",
      "0          0          1             9                  2                 1.0   \n",
      "1          0          0            11                  1                 1.0   \n",
      "2          0          0             9                  3                 1.0   \n",
      "3          0          0            11                  2                 1.0   \n",
      "4          0          0             8                  2                 1.0   \n",
      "\n",
      "   During Call Wait Time  Calls  \n",
      "0                      4      1  \n",
      "1                      3      1  \n",
      "2                      3      1  \n",
      "3                      4      1  \n",
      "4                      4      1  \n",
      "  Branch   Call Purpose Time Block Incoming or Outgoing Queue Rep ID Sale  \\\n",
      "0  South  Sales Support   10:00 AM             Incoming     D   Kate   NO   \n",
      "1  South  Sales Support   10:00 AM             Incoming     C   Eric   NO   \n",
      "2  South  Sales Support   10:00 AM             Incoming     C  Susan   NO   \n",
      "3  South  Sales Support   10:00 AM             Incoming     C  Alice   NO   \n",
      "4  South  Sales Support   12:00 PM             Incoming     C  Sandy   NO   \n",
      "\n",
      "   Lost Call  Abandoned  Busy Minutes  Not Ready Minutes  Incoming Wait Time  \\\n",
      "0          0          0             9                  1                 1.0   \n",
      "1          0          0             8                  2                 1.0   \n",
      "2          0          0            10                  2                 1.0   \n",
      "3          0          0            12                  1                 1.0   \n",
      "4          0          0             8                  3                 1.0   \n",
      "\n",
      "   During Call Wait Time  Calls  \n",
      "0                      2      1  \n",
      "1                      4      1  \n",
      "2                      4      1  \n",
      "3                      3      1  \n",
      "4                      3      1  \n"
     ]
    }
   ],
   "source": [
    "# Cleaning Question 4 solution below: \n",
    "\n",
    "# it doesn't seem like we need the Unnamed: 0 column... \n",
    "\n",
    "north_df.drop(columns=['Unnamed: 0'], inplace=True)\n",
    "print(north_df.head())\n",
    "\n",
    "south_df.drop(columns=['Unnamed: 0'], inplace=True)\n",
    "print(south_df.head())\n",
    "\n",
    "# I expected this to work with just drop(columns=['Unnamed: 0']), but it didn't work without the\n",
    "# inplace.  Documentation (https://pandas.pydata.org/docs/reference/api/pandas.DataFrame.drop.html)\n",
    "# seems to show that inplace=True prevents a copy from being returned... but haven't I had drop()\n",
    "# work before without an inplace?  I'm not sure what the difference is here... More reading shows\n",
    "# that drop() returns a new table with the column removed, but doesn't change the original table.  So,\n",
    "# since I'm calling the original table, here, I need inplace to actually update that original table. \n",
    "# Think I understand now... \n"
   ]
  },
  {
   "cell_type": "markdown",
   "id": "689e76b9-64d2-45d7-883a-b8c4d822e0c8",
   "metadata": {},
   "source": [
    "##### Record your answer below:\n",
    "> Your Answer: The only one that seems completely unnecessary to me is Unnamed: 0.  I drop()-ed it. "
   ]
  },
  {
   "cell_type": "markdown",
   "id": "73342a9a",
   "metadata": {},
   "source": [
    "## Task 3: Data Manipulation\n",
    "Before you begin answering any questions, combine the two datasets together to create a third dataframe called df. You can use this third dataframe to compare the two call centers to company-wide trends.\n",
    "* Add additional code blocks as needed to show how you came to your conclusions. Add comments in your code blocks to help others understand your thinking. Record your answer below."
   ]
  },
  {
   "cell_type": "code",
   "execution_count": 23,
   "id": "e9705c34",
   "metadata": {},
   "outputs": [
    {
     "name": "stdout",
     "output_type": "stream",
     "text": [
      "    Branch     Call Purpose Time Block Incoming or Outgoing Queue  Rep ID  \\\n",
      "0    North        Complaint    9:00 AM             Incoming     B   Brent   \n",
      "1    North    Sales Support   11:00 AM             Incoming     A     Cam   \n",
      "2    North    Sales Support   11:00 AM             Incoming     B    Todd   \n",
      "3    North    Sales Support    4:00 PM             Incoming     B   Brent   \n",
      "4    North  Product Support   12:00 PM             Incoming     B   Brent   \n",
      "..     ...              ...        ...                  ...   ...     ...   \n",
      "309  South  Product Support    5:00 PM             Outgoing     D   Helga   \n",
      "310  South  Product Support    5:00 PM             Outgoing     C   Susan   \n",
      "311  South  Product Support    5:00 PM             Outgoing     C   Sandy   \n",
      "312  South  Product Support    5:00 PM             Outgoing     C    Eric   \n",
      "313  South  Product Support    5:00 PM             Outgoing     D  George   \n",
      "\n",
      "    Sale  Lost Call  Abandoned  Busy Minutes  Not Ready Minutes  \\\n",
      "0     NO          0          1             9                  2   \n",
      "1     NO          0          0            11                  1   \n",
      "2     NO          0          0             9                  3   \n",
      "3     NO          0          0            11                  2   \n",
      "4     NO          0          0             8                  2   \n",
      "..   ...        ...        ...           ...                ...   \n",
      "309   NO          0          0            10                  3   \n",
      "310   NO          0          0            12                  3   \n",
      "311   NO          0          0             9                  3   \n",
      "312   NO          0          0            10                  1   \n",
      "313   NO          0          0            10                  2   \n",
      "\n",
      "     Incoming Wait Time  During Call Wait Time  Calls  \n",
      "0                   1.0                      4      1  \n",
      "1                   1.0                      3      1  \n",
      "2                   1.0                      3      1  \n",
      "3                   1.0                      4      1  \n",
      "4                   1.0                      4      1  \n",
      "..                  ...                    ...    ...  \n",
      "309                 NaN                      4      1  \n",
      "310                 NaN                      4      1  \n",
      "311                 NaN                      4      1  \n",
      "312                 NaN                      2      1  \n",
      "313                 NaN                      3      1  \n",
      "\n",
      "[559 rows x 14 columns]\n"
     ]
    }
   ],
   "source": [
    "# Create dataframe for the entire company named df\n",
    "\n",
    "df = pd.concat([north_df, south_df])\n",
    "\n",
    "print(df)"
   ]
  },
  {
   "cell_type": "markdown",
   "id": "7e87dfd1",
   "metadata": {},
   "source": [
    "#### Manipulation Question 1:  Group by Rep ID and sum the resulting structure. Sort by calls to determine which rep in each branch has the highest number of calls."
   ]
  },
  {
   "cell_type": "code",
   "execution_count": 25,
   "id": "3953f09a",
   "metadata": {},
   "outputs": [
    {
     "name": "stdout",
     "output_type": "stream",
     "text": [
      "Rep ID  Branch\n",
      "Brent   North     37\n",
      "Eric    South     35\n",
      "Randy   South     33\n",
      "Sandy   South     32\n",
      "Helga   South     31\n",
      "Lilly   North     30\n",
      "George  South     29\n",
      "Kate    South     29\n",
      "Todd    North     29\n",
      "Duke    North     29\n",
      "Karl    South     28\n",
      "Joe     North     26\n",
      "Susan   South     26\n",
      "Josh    South     26\n",
      "Sharon  South     25\n",
      "Cam     North     24\n",
      "Xander  North     24\n",
      "Amanda  North     23\n",
      "Andy    North     23\n",
      "Alice   South     20\n",
      "Name: Calls, dtype: int64\n"
     ]
    }
   ],
   "source": [
    "# Manipulation Question solution below:\n",
    "\n",
    "# df_grouped_reps = df.groupby('Rep ID') \n",
    "\n",
    "# df_group_rep_summed = df_grouped_reps['Calls'].sum()\n",
    "\n",
    "# print(df_group_rep_summed)\n",
    "\n",
    "# df_group_rep_summed_sorted = df_group_rep_summed.sort_values(ascending=False)\n",
    "\n",
    "# print(df_group_rep_summed_sorted)\n",
    "\n",
    "north_df_reps = north_df.groupby('Rep ID')\n",
    "north_df_group_rep_summed = north_df_reps['Calls'].sum()\n",
    "north_df_group_rep_summed_sorted = north_df_group_rep_summed.sort_values(ascending=False)\n",
    "\n",
    "south_df_reps = south_df.groupby('Rep ID')\n",
    "south_df_group_rep_summed = south_df_reps['Calls'].sum()\n",
    "south_df_group_rep_summed_sorted = south_df_group_rep_summed.sort_values(ascending=False)\n",
    "\n",
    "print(north_df_group_rep_summed_sorted)\n",
    "print(south_df_group_rep_summed_sorted)\n",
    "\n",
    "# Why did this question ask us to work from a combined dataframe but then get information for North\n",
    "# and South call centers, respectively?  Should I have worked from the combined dataframe and sorted\n",
    "# accordingly to get the desired result? \n",
    "\n",
    "# I think this works for doing it from the combined dataframe instead of the two separate ones.  The\n",
    "# addition of sorting first by Rep ID and then by Branch is what I had to figure out... \n",
    "\n",
    "df_grouped = df.groupby(['Rep ID', 'Branch'])['Calls'].sum().sort_values(ascending=False)\n",
    "print(df_grouped)\n",
    "\n"
   ]
  },
  {
   "cell_type": "markdown",
   "id": "7c29838c-1402-4e4b-94c9-050515d8dd18",
   "metadata": {},
   "source": [
    "##### Record your answer below\n",
    "Rep with the hightest number of calls and their total calls:\n",
    "- North Branch = Brent (37)\n",
    "- South Branch = Eric (35)"
   ]
  },
  {
   "cell_type": "markdown",
   "id": "809293b9",
   "metadata": {},
   "source": [
    "#### Manipulation Question 2:  The average call abandonment rate is a KPI when it comes to determining call center efficiency. As you may recall, abandoned calls are calls where the customer hangs up due to long call times. What is the average call abandonment rate for each branch and the whole company? Do any of these fall out of the optimal range of 2-5%?"
   ]
  },
  {
   "cell_type": "code",
   "execution_count": 108,
   "id": "3dff7534",
   "metadata": {},
   "outputs": [
    {
     "name": "stdout",
     "output_type": "stream",
     "text": [
      "7\n",
      "245\n",
      "0.02857142857142857\n",
      "314\n",
      "4\n",
      "0.012738853503184714\n",
      "11\n",
      "0.01967799642218247\n"
     ]
    }
   ],
   "source": [
    "# Manipulation Question 2 solution below:\n",
    "\n",
    "n_abandoned_count = (north_df['Abandoned'] == 1).sum()\n",
    "print(n_abandoned_count) \n",
    "\n",
    "n_call_count = north_df['Calls'].sum()\n",
    "print(n_call_count)\n",
    "\n",
    "print(n_abandoned_count / n_call_count)\n",
    "\n",
    "# North call center has an Abandoned rate of 2.86%\n",
    "\n",
    "# South call center \n",
    "\n",
    "s_call_count = south_df['Calls'].sum()\n",
    "print(s_call_count)\n",
    "\n",
    "s_abandoned_count = (south_df['Abandoned'] == 1).sum()\n",
    "print(s_abandoned_count) \n",
    "\n",
    "print(s_abandoned_count / s_call_count)\n",
    "\n",
    "# South call center has an Abandoned rate of 1.27%\n",
    "\n",
    "# Whole company\n",
    "\n",
    "df_call_count = df['Calls'].sum()\n",
    "\n",
    "df_abandoned_count = (df['Abandoned'] == 1).sum()\n",
    "print(df_abandoned_count)\n",
    "\n",
    "print(df_abandoned_count / df_call_count)\n",
    "\n",
    "# the whole company has an Abandoned rate of 1.97%"
   ]
  },
  {
   "cell_type": "markdown",
   "id": "c284596f-218f-4291-81b6-718ea5671feb",
   "metadata": {},
   "source": [
    "##### Record your answer below:\n",
    "Average Call Abandonment Rates (round to the nearest hundredth):\n",
    "- North Branch = 2.86%\n",
    "- South Branch = 1.27%\n",
    "- Company Wide = 1.97%\n",
    "- Do any of these fall out of the optimal range of 2-5%? No."
   ]
  },
  {
   "cell_type": "markdown",
   "id": "598bb1bf",
   "metadata": {},
   "source": [
    "#### Manipulation Question 3:  Service level is another KPI when it comes to measuring call center efficiency. Service level is the percentage of calls answered within a specific number of seconds. In the case of your employer, their ideal time frame is 2 seconds. What is the percentage of calls answered within 2 seconds for each branch and the entire company?"
   ]
  },
  {
   "cell_type": "code",
   "execution_count": 175,
   "id": "2fc8f669",
   "metadata": {},
   "outputs": [
    {
     "name": "stdout",
     "output_type": "stream",
     "text": [
      "33\n",
      "82\n",
      "0.4024390243902439\n",
      "48\n",
      "126\n",
      "0.38095238095238093\n",
      "81\n",
      "208\n",
      "0.3894230769230769\n"
     ]
    }
   ],
   "source": [
    "# Manipulation Question 3 solution below: \n",
    "n_under_2 = north_df['Incoming Wait Time'].isin([1, 2]).sum()\n",
    "print(n_under_2)\n",
    "\n",
    "# I think <= 2 would've worked, too, instead of isin([1, 2]).  I originally went with isin()\n",
    "# to try to avoid issues with the NaNs.  \n",
    "\n",
    "n_incoming_count = (north_df['Incoming or Outgoing'] == 'Incoming').sum()\n",
    "print(n_incoming_count)\n",
    "\n",
    "print (n_under_2 / n_incoming_count)\n",
    "\n",
    "s_under_2 = south_df['Incoming Wait Time'].isin([1, 2]).sum()\n",
    "print(s_under_2)\n",
    "\n",
    "s_incoming_count = (south_df['Incoming or Outgoing'] == 'Incoming').sum()\n",
    "print(s_incoming_count)\n",
    "\n",
    "print (s_under_2 / s_incoming_count)\n",
    "\n",
    "df_under_2 = df['Incoming Wait Time'].isin([1, 2]).sum()\n",
    "print(df_under_2)\n",
    "\n",
    "df_incoming_count = (df['Incoming or Outgoing'] == 'Incoming').sum()\n",
    "print(df_incoming_count)\n",
    "\n",
    "print (df_under_2 / df_incoming_count)"
   ]
  },
  {
   "cell_type": "markdown",
   "id": "e3a4c9d9-4e11-4e1f-859a-d2c919f7d9ce",
   "metadata": {},
   "source": [
    "##### Record your answer below:\n",
    "Percentage of calls answered within 2 seconds, include # of calls:\n",
    "- North Branch = 40.24% (33 calls)\n",
    "- South Branch = 38.10% (48 calls)\n",
    "- Company Wide = 38.94% (81 calls)"
   ]
  },
  {
   "cell_type": "markdown",
   "id": "7e19e705",
   "metadata": {},
   "source": [
    "#### Manipulation Question 4: For each branch and the entire company, what is the average speed of answer?"
   ]
  },
  {
   "cell_type": "code",
   "execution_count": 114,
   "id": "72a653ed",
   "metadata": {},
   "outputs": [
    {
     "name": "stdout",
     "output_type": "stream",
     "text": [
      "Incoming Wait Time    3.04878\n",
      "dtype: float64\n",
      "Incoming Wait Time    3.0\n",
      "dtype: float64\n",
      "Incoming Wait Time    3.019231\n",
      "dtype: float64\n"
     ]
    }
   ],
   "source": [
    "# Manipulation Question 4 solution below:\n",
    "\n",
    "n_avg_spd = north_df.agg({'Incoming Wait Time': 'mean'})\n",
    "print(n_avg_spd)\n",
    "\n",
    "s_avg_spd = south_df.agg({'Incoming Wait Time': 'mean'})\n",
    "print(s_avg_spd)\n",
    "\n",
    "df_avg_spd = df.agg({'Incoming Wait Time': 'mean'})\n",
    "print(df_avg_spd)"
   ]
  },
  {
   "cell_type": "markdown",
   "id": "fb04c65b-442b-48e1-b22c-b2af8b835ffd",
   "metadata": {},
   "source": [
    "##### Record your answer by below:\n",
    "Average speed of answer (rounded to nearest hundredth):\n",
    "- North Branch in seconds = 3.05\n",
    "- South Branch in seconds = 3.00\n",
    "- Company Wide in seconds = 3.02"
   ]
  },
  {
   "cell_type": "markdown",
   "id": "d5f50a40",
   "metadata": {},
   "source": [
    "## Task 4: Visualization\n",
    "\n",
    "Create a visualization for each of the following questions. Some of the code to handle aggregating and storing data may be written for you. For each visualization, you choose the chart style that you feel suits the situation best. Make note of the chart style you chose and why. \n",
    "\n",
    "*NOTE Some questions you may decide to use more than one chart and or chart style."
   ]
  },
  {
   "cell_type": "markdown",
   "id": "66ccf83c",
   "metadata": {},
   "source": [
    "#### Visualization 1:  What is the average abandonment rate per queue?"
   ]
  },
  {
   "cell_type": "code",
   "execution_count": 33,
   "id": "c971d779",
   "metadata": {},
   "outputs": [
    {
     "name": "stdout",
     "output_type": "stream",
     "text": [
      "{'A': np.float64(4.166666666666666), 'B': np.float64(2.013422818791946), 'C': np.float64(0.7246376811594203), 'D': np.float64(1.7045454545454544)}\n"
     ]
    },
    {
     "name": "stderr",
     "output_type": "stream",
     "text": [
      "/var/folders/zf/cb3_1h9969d8z3n17n7d956r0000gn/T/ipykernel_7307/3327525141.py:9: FutureWarning: Series.__getitem__ treating keys as positions is deprecated. In a future version, integer keys will always be treated as labels (consistent with DataFrame behavior). To access a value by position, use `ser.iloc[pos]`\n",
      "  abandonment_rates[queues[i]] = queue_dict[\"Abandoned\"][i] / queue_dict[\"Calls\"][i] * 100\n"
     ]
    },
    {
     "data": {
      "image/png": "[encoded data removed]",
      "text/plain": [
       "<Figure size 640x480 with 1 Axes>"
      ]
     },
     "metadata": {},
     "output_type": "display_data"
    }
   ],
   "source": [
    "# Create visualization 1 here\n",
    "# Import any additional libraries needed with alias\n",
    "\n",
    "# The dictionary abandonment_rates has the data you need.\n",
    "abandonment_rates = {}\n",
    "queues = [\"A\", \"B\", \"C\", \"D\"]\n",
    "queue_dict = df.groupby(\"Queue\").agg(\"sum\")\n",
    "for i in range(4):\n",
    "    abandonment_rates[queues[i]] = queue_dict[\"Abandoned\"][i] / queue_dict[\"Calls\"][i] * 100\n",
    "\n",
    "print(abandonment_rates)\n",
    "\n",
    "#Your code below:\n",
    "\n",
    "queues = abandonment_rates.keys()\n",
    "rates = abandonment_rates.values()\n",
    "\n",
    "# Gez it took me forever to figure out that it was necessary (I think) to get keys and values \n",
    "# out of the abandonment_rates dictionary.  Should I have known how to do that?  I didn't find \n",
    "# anything like that in the textbook, but maybe I'm just missing it.  There's probably some\n",
    "# better way to do this, but this is what I got to work... \n",
    "\n",
    "plt.bar(queues, rates)\n",
    "plt.xlabel('Call Center Queues')\n",
    "plt.ylabel('Abandonment Rates (%)')\n",
    "plt.title('Average Abandonment Rates Per Queue')\n",
    "plt.show()\n"
   ]
  },
  {
   "cell_type": "markdown",
   "id": "00a821e7-b296-4950-8889-dacf36ef37fb",
   "metadata": {},
   "source": [
    "##### Record your answer below:\n",
    "\n",
    "> Chart style you chose and why: Bar, because we're trying to visualize a comparison of different queues."
   ]
  },
  {
   "cell_type": "markdown",
   "id": "4a9fc77f",
   "metadata": {},
   "source": [
    "#### Visualization 2: What is the service level percentage and average speed of answer for each rep in the North Branch?"
   ]
  },
  {
   "cell_type": "code",
   "execution_count": 171,
   "id": "61f65a7f",
   "metadata": {},
   "outputs": [
    {
     "name": "stdout",
     "output_type": "stream",
     "text": [
      "   Rep ID  Incoming Wait Time  Calls_x  Calls_y  Service Level %\n",
      "0  Amanda            2.400000        3        5        60.000000\n",
      "1    Andy            3.600000        3       10        30.000000\n",
      "2   Brent            2.125000        6        8        75.000000\n",
      "3     Cam            2.909091        5       11        45.454545\n",
      "4    Duke            2.785714        6       14        42.857143\n",
      "5     Joe            3.600000        2       10        20.000000\n",
      "6   Lilly            3.083333        4       12        33.333333\n",
      "7    Todd            3.500000        2        6        33.333333\n",
      "8  Xander            3.333333        2        6        33.333333\n"
     ]
    },
    {
     "data": {
      "image/png": "[encoded data removed]",
      "text/plain": [
       "<Figure size 640x480 with 1 Axes>"
      ]
     },
     "metadata": {},
     "output_type": "display_data"
    }
   ],
   "source": [
    "# Create visualization 2 here\n",
    "# north_plt contains the data you need for the average speed of answer of each rep\n",
    "\n",
    "north_plt = north_df.groupby(\"Rep ID\")[\"Incoming Wait Time\"].mean().to_frame().reset_index()\n",
    "\n",
    "# Finding each Rep's Personal Service Level Percentage.  Basically, Calls within 2 secs / total calls\n",
    "\n",
    "# Table 1: Total Incoming calls less than 2 seconds grouped by Rep\n",
    "quick_calls = north_df[north_df[\"Incoming Wait Time\"] <= 2.0]\n",
    "quick_reps = quick_calls[[\"Rep ID\", \"Calls\"]]\n",
    "quick_stats = quick_reps.groupby([\"Rep ID\"]).sum()  # Final Table\n",
    "\n",
    "\n",
    "# Table 2: Total Incoming Calls Only grouped by Rep\n",
    "total_calls_in = north_df[north_df[\"Incoming or Outgoing\"] == \"Incoming\"]\n",
    "rep_calls = total_calls_in[[\"Rep ID\", \"Calls\"]]     \n",
    "total_stats = rep_calls.groupby([\"Rep ID\"]).sum() # Final Table  \n",
    "\n",
    "#  Table 3: Service Level Percentage created via merge\n",
    "service_level = pd.merge(quick_stats, total_stats, on=\"Rep ID\")\n",
    "\n",
    "# Create Percentage Column in Table 3\n",
    "service_level[\"Service Level %\"] = service_level[\"Calls_x\"]/service_level[\"Calls_y\"] * 100\n",
    "\n",
    "#Your Code Here:\n",
    "\n",
    "# avg_spd_serv_lvl = pd.concat([north_plt, service_level])\n",
    "# print(avg_spd_serv_lvl)\n",
    "\n",
    "# concat() is not getting me the desired results... Looks like I need to set an index\n",
    "# or somethign like that to make it work in this case? \n",
    "\n",
    "merged_data = pd.merge(north_plt, service_level, on=\"Rep ID\")\n",
    "print(merged_data)\n",
    "\n",
    "x = merged_data['Service Level %']\n",
    "y = merged_data['Incoming Wait Time']\n",
    "rep_ids = merged_data['Rep ID']\n",
    "\n",
    "plt.scatter(x, y)\n",
    "for i, rep_id in enumerate(rep_ids):\n",
    "    plt.text(x[i], y[i], rep_id, fontsize=7, ha='center', va='bottom')\n",
    "plt.xlabel('Service Level (%)')\n",
    "plt.ylabel('Average Answer Speed')\n",
    "plt.title('Service Level (%) by Avg Answer Speed')\n",
    "plt.show()\n"
   ]
  },
  {
   "cell_type": "markdown",
   "id": "4d4cad4d-f9fb-4927-8a45-4b5cd17edd3a",
   "metadata": {},
   "source": [
    "##### Record your answer below:\n",
    "\n",
    "> Chart style you chose and why: I went with a scatterplot, because it seemed like we're trying to get\n",
    "an understanding of the *relationship* between Incoming Wait Time and Service Level %.  The scatterplot \n",
    "appears to show that there is a positive correlation between reducing Incoming Wait Time and an increase\n",
    "in Service Level %."
   ]
  },
  {
   "cell_type": "markdown",
   "id": "f965e41a",
   "metadata": {},
   "source": [
    "#### Visualization 3: For each type of call purpose, how many calls are outgoing vs. incoming?"
   ]
  },
  {
   "cell_type": "code",
   "execution_count": 36,
   "id": "44096730",
   "metadata": {},
   "outputs": [
    {
     "name": "stdout",
     "output_type": "stream",
     "text": [
      "{'Incoming': 51}\n",
      "{'Outgoing': 123, 'Incoming': 75}\n",
      "{'Outgoing': 228, 'Incoming': 82}\n",
      "          Complaints  Sales Support  Product Support\n",
      "Incoming        51.0             75               82\n",
      "Outgoing         NaN            123              228\n"
     ]
    },
    {
     "data": {
      "image/png": "[encoded data removed]",
      "text/plain": [
       "<Figure size 640x480 with 1 Axes>"
      ]
     },
     "metadata": {},
     "output_type": "display_data"
    }
   ],
   "source": [
    "# Create visualization 3 here:\n",
    "# The three dictionaries, complaints, sales_support, and product_support, have the information you need\n",
    "\n",
    "purpose_group = df.groupby(\"Call Purpose\")\n",
    "call_purpose = [\"Complaint\", \"Product Support\", \"Sales Support\"]\n",
    "purpose_counts = purpose_group[\"Incoming or Outgoing\"].value_counts()\n",
    "#print(purpose_counts)\n",
    "\n",
    "complaints = purpose_counts[\"Complaint\"].to_dict()\n",
    "sales_support = purpose_counts[\"Sales Support\"].to_dict()\n",
    "product_support = purpose_counts[\"Product Support\"].to_dict()\n",
    "\n",
    "print(complaints)\n",
    "print(sales_support)\n",
    "print(product_support)\n",
    "\n",
    "#Your Code Here:\n",
    "\n",
    "# first step was realizing data couldn't be visualized directly from dictionaries... at least, I don't\n",
    "# think it can?  (https://www.easytweaks.com/plot-dictionary-python-pandas/)\n",
    "\n",
    "purpose_df = pd.DataFrame({\n",
    "    'Complaints': complaints,\n",
    "    'Sales Support': sales_support, \n",
    "    'Product Support': product_support\n",
    "})\n",
    "\n",
    "print(purpose_df)\n",
    "\n",
    "purpose_df.plot(kind='bar')\n",
    "\n",
    "plt.xlabel('Call Purpose')\n",
    "plt.ylabel('No. of Calls')\n",
    "plt.title('Incoming vs. Outgoing by Call Purpose')\n",
    "plt.show()\n",
    "\n",
    "# I suppose this is a somewhat helpful visualization.  I wanted it to have the 3 categories\n",
    "# of calls along the x-axis, though, with an incoming and an outgoing bar for each category.\n"
   ]
  },
  {
   "cell_type": "markdown",
   "id": "9198bbe4-44ef-4e21-bd40-6ace8e9f7694",
   "metadata": {},
   "source": [
    "##### Record your answer below:\n",
    "\n",
    "> Chart style you chose and why: Bar, because we're looking for a comparison again.  I'm not sure\n",
    "how or why it automatically grouped things, but... I guess it's helpful.  "
   ]
  },
  {
   "cell_type": "markdown",
   "id": "ea7ed568",
   "metadata": {},
   "source": [
    "## Task 5: Summarize Your Work\n",
    "\n",
    "With what you know now about the two call centers and the entire company, answer the following questions. Note that while this is subjective, you should include relevant data to back up your opinion.\n"
   ]
  },
  {
   "cell_type": "markdown",
   "id": "d2fc3d13",
   "metadata": {},
   "source": [
    "#### Summary Question 1:  Using KPIs such as average abandonment rate, service level and average speed of answer, in your opinion, which one of the two branches is operating more efficiently? Why?\n",
    "\n",
    "##### Record your answer below:\n",
    "> Your Answer: The South branch handles more calls (314 vs. 245) and has an abandonment rate less than half of the North branch's (1.27% vs. 2.86%).  And it has nearly the same service level as the North branch (38.10% vs. 40.24%).  Other metrics, like Busy Minutes, Not Ready Minutes, Incoming Wait Time, and During Call Wait time were roughly equivalent between the two branches, with the South performing slightly better in some and the North slightly better in others.  So, overall, I'd say the South branch is operating *slightly* more efficiently than the North.  \n",
    "\n"
   ]
  },
  {
   "cell_type": "markdown",
   "id": "489f28d6",
   "metadata": {},
   "source": [
    "#### Summary Question 2: Based on the number of reps in each branch and how quickly the reps are working, in your opinion, which branch would benefit from the extra help?\n",
    "\n",
    "##### Record your answer below:\n",
    "> Your Answer: Based on the fact that they handle more calls than the North branch (28.54 calls/rep vs. 27.22 calls/rep) and are getting to their calls slightly less quickly (service level), it seems like the South branch could benefit slightly more from extra help.  I feel like this sort of contradicts my answer to Summary Question 1, though...\n"
   ]
  },
  {
   "cell_type": "markdown",
   "id": "0b10a8c3",
   "metadata": {},
   "source": [
    "#### Summary Question 3: Now that you have explored the datasets, is there any data or information that you wish you had in this analysis?\n",
    "\n",
    "##### Record your answer below:\n",
    "> Your Answer: Customer satisfaction ratings, call duration (could be helpful to guage rep activity - if they're on longer calls, other callers will likely be waiting longer), more historical data (does the South branch *routinely* get more calls than the North branch, or was that only true during this particular period?) come to mind. \n"
   ]
  },
  {
   "cell_type": "markdown",
   "id": "ce16f43d",
   "metadata": {},
   "source": [
    "## Bonus Mission\n",
    "Create a visualization that answers this question: For each call purpose, how many calls (incoming and outgoing) take place in each time block?\n",
    "##### Record your answer below:\n",
    "\n",
    "> Chart style you chose and why: Grouped bar because we want to compare # of calls of each type in each time block.  It's only now as I write this explanation that I realize that my visualization doesn't actually differentiate between "
   ]
  },
  {
   "cell_type": "code",
   "execution_count": 44,
   "id": "71b04f32",
   "metadata": {},
   "outputs": [
    {
     "name": "stdout",
     "output_type": "stream",
     "text": [
      "Call Purpose                     Complaint  Product Support  Sales Support\n",
      "Time Block Incoming or Outgoing                                           \n",
      "10:00 AM   Incoming                    6.0              3.0           24.0\n",
      "           Outgoing                    NaN             17.0           49.0\n",
      "11:00 AM   Incoming                    3.0              7.0            9.0\n",
      "           Outgoing                    NaN             19.0           18.0\n",
      "12:00 PM   Incoming                   11.0              9.0           23.0\n",
      "           Outgoing                    NaN             51.0           26.0\n",
      "1:00 PM    Incoming                    6.0              2.0            7.0\n",
      "           Outgoing                    NaN             14.0           11.0\n",
      "2:00 PM    Incoming                    5.0             16.0            4.0\n",
      "           Outgoing                    NaN             34.0            6.0\n",
      "3:00 PM    Incoming                    6.0             23.0            3.0\n",
      "           Outgoing                    NaN             38.0            3.0\n",
      "4:00 PM    Incoming                    3.0             14.0            5.0\n",
      "           Outgoing                    NaN             26.0            5.0\n",
      "5:00 PM    Incoming                    6.0              8.0            NaN\n",
      "           Outgoing                    NaN             24.0            5.0\n",
      "9:00 AM    Incoming                    5.0              NaN            NaN\n",
      "           Outgoing                    NaN              5.0            NaN\n"
     ]
    },
    {
     "data": {
      "image/png": "[encoded data removed]",
      "text/plain": [
       "<Figure size 640x480 with 1 Axes>"
      ]
     },
     "metadata": {},
     "output_type": "display_data"
    }
   ],
   "source": [
    "# Create your Bonus Mission visualization here!\n",
    "call_times = df[[\"Time Block\", \"Call Purpose\", \"Incoming or Outgoing\", \"Calls\"]]\n",
    "\n",
    "# Use groupby to plot based on time blocks:\n",
    "\n",
    "grouped_times = call_times.groupby(['Time Block', 'Incoming or Outgoing', 'Call Purpose'])['Calls'].count().unstack()\n",
    "\n",
    "# Took me so many iterations of this to figure out how to group correctly.  And it took me\n",
    "# 10x as long as everything else to figure out that I needed .unstack() at the end to get the\n",
    "# chart to group, and apparently color bars for different call purposes different colors (\n",
    "# https://www.shanelynn.ie/bar-plots-in-python-using-pandas-dataframes/)\n",
    "\n",
    "print(grouped_times)\n",
    "\n",
    "# Use groupby and get_group to select which call purpose to plot:\n",
    "\n",
    "# getting data for the x-axis \n",
    "# complaints = grouped_times.xs('Complaint', level='Call Purpose')\n",
    "# sales_support = grouped_times.xs('Sales Support', level='Call Purpose')\n",
    "# product_support = grouped_times.xs('Product Support', level='Call Purpose')\n",
    "\n",
    "# I tried get_group() specifically, but apparently xs() is what I need to use if I don't want to\n",
    "# specify a time block but instead want to get data for *all* the time blocks? \n",
    "\n",
    "#getting data for the y-axis\n",
    "# time_blocks = complaints.keys()\n",
    "# complaint_counts = complaints.values\n",
    "\n",
    "# Learned the need to do this back up on Visualization Question 1! \n",
    "\n",
    "# Took me a while to figure out I can't put () at the end of complaints.values\n",
    "# I assume this is because I'm working with a series here, not a dictionary like\n",
    "# I was in Visualization Question 1? \n",
    "\n",
    "grouped_times.plot(kind='bar')\n",
    "plt.show()\n",
    "\n",
    "# This is a visual mess, but it kind of \"works\" for the requested purpose... \n",
    "# Why is 9:00 a.m. showing up at the far right, after 5:00 p.m.. instead of\n",
    "# at the far left, before 10:00 a.m.?  "
   ]
  }
 ],
 "metadata": {
  "kernelspec": {
   "display_name": "Python 3 (ipykernel)",
   "language": "python",
   "name": "python3"
  },
  "language_info": {
   "codemirror_mode": {
    "name": "ipython",
    "version": 3
   },
   "file_extension": ".py",
   "mimetype": "text/x-python",
   "name": "python",
   "nbconvert_exporter": "python",
   "pygments_lexer": "ipython3",
   "version": "3.12.4"
  }
 },
 "nbformat": 4,
 "nbformat_minor": 5
}
